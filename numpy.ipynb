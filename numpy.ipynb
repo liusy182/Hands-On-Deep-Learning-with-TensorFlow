{
 "cells": [
  {
   "cell_type": "code",
   "execution_count": 9,
   "metadata": {},
   "outputs": [
    {
     "name": "stdout",
     "output_type": "stream",
     "text": [
      "[1 2 3 4 5]\n",
      "[[1]\n",
      " [2]\n",
      " [3]\n",
      " [4]\n",
      " [5]]\n",
      "ok\n",
      "\n",
      " arr2d[0, 0]: \n",
      " 1\n",
      "\n",
      " arr2d[:2]: \n",
      " [[1 2 3]\n",
      " [4 5 6]]\n",
      "\n",
      " arr2d[:2, 1:]: \n",
      " [[2 3]\n",
      " [5 6]]\n",
      "\n",
      " arr2d[:, 0]: \n",
      " [1 4 7]\n"
     ]
    }
   ],
   "source": [
    "# These are all the modules we'll be using later. Make sure you can import them\n",
    "# before proceeding further.\n",
    "from __future__ import print_function\n",
    "import numpy as np\n",
    "import tensorflow as tf\n",
    "\n",
    "\n",
    "arr = np.array([1,2,3,4,5])\n",
    "print(arr)\n",
    "print(arr[:, None])\n",
    "\n",
    "print('ok')\n",
    "\n",
    "\n",
    "\n",
    "arr2d = np.array([[1, 2, 3], [4, 5, 6], [7, 8, 9]])\n",
    "\n",
    "print('\\n arr2d[0, 0]: \\n', arr2d[0, 0])\n",
    "print('\\n arr2d[:2]: \\n', arr2d[:2])\n",
    "print('\\n arr2d[:2, 1:]: \\n', arr2d[:2, 1:])\n",
    "\n",
    "# select a column\n",
    "print('\\n arr2d[:, 0]: \\n', arr2d[:, 0])\n",
    "\n"
   ]
  },
  {
   "cell_type": "code",
   "execution_count": 32,
   "metadata": {},
   "outputs": [
    {
     "name": "stdout",
     "output_type": "stream",
     "text": [
      "\n",
      "arr3d[0, 1]:\n",
      " [4 5 6]\n"
     ]
    }
   ],
   "source": [
    "arr3d = np.array([\n",
    "    [\n",
    "        [1, 2, 3], [4, 5, 6]\n",
    "    ], \n",
    "    [\n",
    "        [7, 8, 9], [10, 11, 12]\n",
    "    ]\n",
    "])\n",
    "print('\\narr3d[0, 1]:\\n', arr3d[0, 1])"
   ]
  },
  {
   "cell_type": "code",
   "execution_count": 55,
   "metadata": {},
   "outputs": [
    {
     "name": "stdout",
     "output_type": "stream",
     "text": [
      "\n",
      " [[-0.88097116  0.52152081]\n",
      " [ 1.0765528   0.83391059]\n",
      " [ 0.08489721  0.93130695]\n",
      " [ 0.14443681 -0.52413798]\n",
      " [ 0.35768223 -0.40569693]\n",
      " [ 2.11197058  0.67812462]\n",
      " [-1.46873503  0.36748657]]\n",
      "\n",
      " ['Bob' 'Joe' 'Will' 'Bob' 'Will' 'Joe' 'Joe']\n",
      "\n",
      " [1 0 0 1 0 0 0]\n",
      "\n",
      " [[-0.88097116  0.52152081]\n",
      " [ 0.14443681 -0.52413798]]\n",
      "\n",
      " [[ 1.0765528   0.83391059]\n",
      " [ 0.08489721  0.93130695]\n",
      " [ 0.35768223 -0.40569693]\n",
      " [ 2.11197058  0.67812462]\n",
      " [-1.46873503  0.36748657]]\n",
      "\n",
      " [[ 1.0765528   0.83391059]\n",
      " [ 0.08489721  0.93130695]\n",
      " [ 0.35768223 -0.40569693]\n",
      " [ 2.11197058  0.67812462]\n",
      " [-1.46873503  0.36748657]]\n",
      "\n",
      " [ True False  True  True  True False False]\n",
      "[[ 0.          0.52152081]\n",
      " [ 1.0765528   0.83391059]\n",
      " [ 0.08489721  0.93130695]\n",
      " [ 0.14443681  0.        ]\n",
      " [ 0.35768223  0.        ]\n",
      " [ 2.11197058  0.67812462]\n",
      " [ 0.          0.36748657]]\n"
     ]
    }
   ],
   "source": [
    "data = np.random.randn(7, 2)\n",
    "print('\\n', data)\n",
    "\n",
    "names = np.array(['Bob', 'Joe', 'Will', 'Bob', 'Will', 'Joe', 'Joe'])\n",
    "print('\\n', names)\n",
    "\n",
    "# create bool array\n",
    "bobs = (names == 'Bob').astype(np.int32)\n",
    "print('\\n', bobs)\n",
    "\n",
    "# use bool array to extract data\n",
    "bobs2 = data[names == 'Bob', 0:]\n",
    "print('\\n', bobs2)\n",
    "\n",
    "# use negated bool array to extract data\n",
    "bobs3 = data[names != 'Bob', 0:]\n",
    "print('\\n', bobs3)\n",
    "\n",
    "# use negated bool array to extract data (a different method)\n",
    "bobs4 = data[~(names == 'Bob'), 0:]\n",
    "print('\\n', bobs4)\n",
    "\n",
    "# use condition mask to create bool array\n",
    "mask = (names == 'Bob') | (names == 'Will')\n",
    "print('\\n', mask)\n",
    "\n",
    "# assign all values smaller than 0 to 0\n",
    "data[data < 0] = 0\n",
    "print(data)"
   ]
  },
  {
   "cell_type": "code",
   "execution_count": 75,
   "metadata": {},
   "outputs": [
    {
     "name": "stdout",
     "output_type": "stream",
     "text": [
      "\n",
      " [[ 0.  0.  0.  0.]\n",
      " [ 1.  1.  1.  1.]\n",
      " [ 2.  2.  2.  2.]\n",
      " [ 3.  3.  3.  3.]\n",
      " [ 4.  4.  4.  4.]\n",
      " [ 5.  5.  5.  5.]\n",
      " [ 6.  6.  6.  6.]\n",
      " [ 7.  7.  7.  7.]]\n",
      "\n",
      " [[ 4.  4.  4.  4.]\n",
      " [ 3.  3.  3.  3.]\n",
      " [ 6.  6.  6.  6.]]\n",
      "\n",
      " [[ 5.  5.  5.  5.]\n",
      " [ 3.  3.  3.  3.]\n",
      " [ 1.  1.  1.  1.]]\n",
      "\n",
      " [[ 0  1  2  3]\n",
      " [ 4  5  6  7]\n",
      " [ 8  9 10 11]\n",
      " [12 13 14 15]\n",
      " [16 17 18 19]\n",
      " [20 21 22 23]\n",
      " [24 25 26 27]\n",
      " [28 29 30 31]]\n",
      "\n",
      " [ 4 23 29 10]\n",
      "\n",
      " [[ 4  7  5  6]\n",
      " [20 23 21 22]\n",
      " [28 31 29 30]\n",
      " [ 8 11  9 10]]\n"
     ]
    }
   ],
   "source": [
    "arr = np.empty((8, 4))\n",
    "\n",
    "for i in range(8):\n",
    "    arr[i] = i\n",
    "\n",
    "print('\\n', arr)\n",
    "\n",
    "# select multiple rows (use nested array)\n",
    "print('\\n', arr[[4, 3, 6]])\n",
    "# equivalent to: print('\\n', arr[[4, 3, 6], :])\n",
    "\n",
    "print('\\n', arr[[-3, -5, -7]])\n",
    "\n",
    "arr2 = np.arange(32).reshape((8, 4))\n",
    "\n",
    "print('\\n', arr2)\n",
    "\n",
    "# select (1, 0), (5, 3), (7, 1), and (2, 2)\n",
    "print('\\n', arr2[[1, 5, 7, 2], [0, 3, 1, 2]])\n",
    "\n",
    "# select rows 1,5,7,2; rearrange column indices to 0, 3, 1, 2\n",
    "print('\\n', arr2[[1, 5, 7, 2]][:, [0, 3, 1, 2]])"
   ]
  },
  {
   "cell_type": "code",
   "execution_count": 91,
   "metadata": {},
   "outputs": [
    {
     "name": "stdout",
     "output_type": "stream",
     "text": [
      "\n",
      " [[ 0  1  2  3  4]\n",
      " [ 5  6  7  8  9]\n",
      " [10 11 12 13 14]]\n",
      "\n",
      " [[ 0  5 10]\n",
      " [ 1  6 11]\n",
      " [ 2  7 12]\n",
      " [ 3  8 13]\n",
      " [ 4  9 14]]\n",
      "\n",
      " [[125 140 155 170 185]\n",
      " [140 158 176 194 212]\n",
      " [155 176 197 218 239]\n",
      " [170 194 218 242 266]\n",
      " [185 212 239 266 293]]\n",
      "\n",
      "transpose\n",
      "\n",
      " [[[ 0  1  2  3]\n",
      "  [ 4  5  6  7]]\n",
      "\n",
      " [[ 8  9 10 11]\n",
      "  [12 13 14 15]]]\n",
      "\n",
      " [[[ 0  8]\n",
      "  [ 1  9]\n",
      "  [ 2 10]\n",
      "  [ 3 11]]\n",
      "\n",
      " [[ 4 12]\n",
      "  [ 5 13]\n",
      "  [ 6 14]\n",
      "  [ 7 15]]] (2, 4, 2)\n",
      "\n",
      " (3, 2, 1)\n"
     ]
    }
   ],
   "source": [
    "arr = np.arange(15).reshape((3, 5))\n",
    "print('\\n', arr)\n",
    "print('\\n', arr.T)\n",
    "print('\\n', np.dot(arr.T, arr))\n",
    "\n",
    "arr = np.arange(16).reshape((2, 2, 4))\n",
    "print('\\ntranspose')\n",
    "print('\\n', arr)\n",
    "\n",
    "# 1, 2, 0 represents dimension 0, 2, 1 here, \n",
    "# so here 3rd dimension(2) is swapped with 2nd dimension(1)\n",
    "arr = arr.transpose((1, 2, 0))\n",
    "print('\\n', arr, arr.shape)\n",
    "\n",
    "x = np.ones((1, 2, 3))\n",
    "print('\\n', x.T.shape)"
   ]
  },
  {
   "cell_type": "code",
   "execution_count": 18,
   "metadata": {},
   "outputs": [
    {
     "name": "stdout",
     "output_type": "stream",
     "text": [
      "\n",
      " [[ 2.          2.          2.          2.        ]\n",
      " [ 2.          2.          2.          2.        ]\n",
      " [-0.13605061 -0.45547502  2.          2.        ]\n",
      " [ 2.         -0.50194995 -0.02388736  2.        ]]\n",
      "\n",
      " [[ 2  2  2  2]\n",
      " [ 2  2  2  2]\n",
      " [-2 -2  2  2]\n",
      " [ 2 -2 -2  2]]\n",
      "\n",
      " [[ 0.44197515  0.26792203]\n",
      " [ 0.91827181 -2.31101646]]\n",
      "\n",
      " [[ 0.26792203  0.44197515]\n",
      " [-2.31101646  0.91827181]]\n"
     ]
    }
   ],
   "source": [
    "arr = np.random.randn(4, 4)\n",
    "print('\\n', np.where(arr > 0, 2, arr))\n",
    "print('\\n', np.where(arr > 0, 2, -2))\n",
    "\n",
    "arr = np.random.randn(2,2)\n",
    "print('\\n', arr)\n",
    "\n",
    "arr.sort(1)\n",
    "print('\\n', arr)"
   ]
  },
  {
   "cell_type": "code",
   "execution_count": null,
   "metadata": {
    "collapsed": true
   },
   "outputs": [],
   "source": []
  },
  {
   "cell_type": "code",
   "execution_count": null,
   "metadata": {
    "collapsed": true
   },
   "outputs": [],
   "source": []
  }
 ],
 "metadata": {
  "kernelspec": {
   "display_name": "Python 2",
   "language": "python",
   "name": "python2"
  },
  "language_info": {
   "codemirror_mode": {
    "name": "ipython",
    "version": 2
   },
   "file_extension": ".py",
   "mimetype": "text/x-python",
   "name": "python",
   "nbconvert_exporter": "python",
   "pygments_lexer": "ipython2",
   "version": "2.7.10"
  }
 },
 "nbformat": 4,
 "nbformat_minor": 2
}
